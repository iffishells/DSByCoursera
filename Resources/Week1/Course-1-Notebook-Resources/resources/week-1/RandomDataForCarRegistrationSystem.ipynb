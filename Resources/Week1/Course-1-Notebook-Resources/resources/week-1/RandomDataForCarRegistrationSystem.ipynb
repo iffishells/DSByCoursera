{
 "cells": [
  {
   "cell_type": "code",
   "execution_count": 28,
   "metadata": {},
   "outputs": [],
   "source": [
    "def importRandomData():\n",
    "    CarName = [\"Mehran\" ,\"Bolan\" ,\"wagon\" , \"Suzuki\", \"importedAllCars\" ,\"Toyota-Corolla\",\"Honda-City\",\"Honda-BRV\" , \"Honda-Civi\" , \"ToyotaFurtuner\" ,\"ToyotaPrius\" ,\"Vitz\" ,\"importedAqua\" , \"Audi\"]\n",
    "#     print(len(CarName))\n",
    "    CC= [790 , 796 ,998 ,993 ,650 ,1299 ,1598 ,1799,1300, 1497 ,1498 , 1799 ,2694 , 1799]\n",
    "#     /print(len(CC))\n",
    "    Invoice = [713000 ,740000,1074000,1391000,900000,1882000,2017500,2412000,179000,1680500,2333000,2335000,2637000,5280500]\n",
    "#     print(len(Invoice))\n",
    "    filer = [29030,29300,32640,35810,31900,43092,76242,87760 ,42180,44010,86190,96400,352500,549094]\n",
    "#     print(len(filer))\n",
    "    NonFiler = [29030,29300,32640,35810,37100,46030,83224,92400,47180 ,64700,67900,47800,87900,89000]\n",
    "#     print(len(NonFiler))\n",
    "    FilerByTransfer = [30230 ,30500,38840,42101,33900,52940,89730,108510,51680,71615,83060,71101,115260,293260]\n",
    "#     /print(len(FilerByTransfer))\n",
    "    NonFilerByTransfer = [35220,35500,48500,52101,37100,73340,73340,150225,200260,74010,140560,129110,207010,533940]\n",
    "#     print(len(NonFilerByTransfer))"
   ]
  },
  {
   "cell_type": "code",
   "execution_count": 35,
   "metadata": {},
   "outputs": [],
   "source": [
    "import pandas as pd\n",
    "importRandomData()\n",
    "RandomDict = {\n",
    "    \"Car Name\" : CarName,\n",
    "    \"CC\" : CC,\n",
    "    \"Invoice\" : Invoice,\n",
    "    \"Filer\": filer , \n",
    "    \"NonFiler\": NonFiler,\n",
    "    \"filer by Transfer\" : FilerByTransfer,\n",
    "    \"Non filer by Transfer \": NonFilerByTransfer\n",
    "}\n",
    "df = pd.DataFrame(RandomDict)\n",
    "\n",
    "df.to_csv(r'/home/iffishells/Desktop/CarRegistrationProject/RandomData.csv')\n"
   ]
  },
  {
   "cell_type": "code",
   "execution_count": null,
   "metadata": {},
   "outputs": [],
   "source": []
  }
 ],
 "metadata": {
  "kernelspec": {
   "display_name": "Python 3",
   "language": "python",
   "name": "python3"
  },
  "language_info": {
   "codemirror_mode": {
    "name": "ipython",
    "version": 3
   },
   "file_extension": ".py",
   "mimetype": "text/x-python",
   "name": "python",
   "nbconvert_exporter": "python",
   "pygments_lexer": "ipython3",
   "version": "3.8.3"
  }
 },
 "nbformat": 4,
 "nbformat_minor": 4
}
